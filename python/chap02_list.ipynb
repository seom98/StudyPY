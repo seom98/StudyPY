{
 "cells": [
  {
   "cell_type": "code",
   "execution_count": 34,
   "metadata": {},
   "outputs": [
    {
     "name": "stdout",
     "output_type": "stream",
     "text": [
      "4\n",
      "['a', 'b', 'c', 'd', 'e']\n",
      "['a', 'b', 'c', 'd']\n",
      "['a', 'b', 'c', 'f', 'd']\n",
      "f\n",
      "['a', 'b', 'c', 'f']\n",
      "d\n"
     ]
    }
   ],
   "source": [
    "# 리스트\n",
    "family = ['a', 'b', 'c', 'd']\n",
    "print(len(family)); # 리스트의 길이\n",
    "family.append('e'); # 리스트 끝에 추가\n",
    "print(family);\n",
    "family.remove('e'); # 리스트 끝 삭제\n",
    "print(family);\n",
    "family.insert(3,'f'); # 인덱스에 새로운 요소 끼워넣기\n",
    "print(family);\n",
    "print(family[3]); # 리스트의 인덱스요소 접근\n",
    "str = family.pop(); # 리스트 끝 삭제 but, 반환값있음\n",
    "print(family);\n",
    "print(str)"
   ]
  },
  {
   "cell_type": "code",
   "execution_count": 35,
   "metadata": {},
   "outputs": [
    {
     "name": "stdout",
     "output_type": "stream",
     "text": [
      "0\n",
      "1\n",
      "2\n",
      "3\n",
      "4\n",
      "5\n",
      "6\n",
      "7\n",
      "8\n",
      "9\n"
     ]
    }
   ],
   "source": [
    "for i in range(10):\n",
    "    print(i)"
   ]
  },
  {
   "cell_type": "code",
   "execution_count": 36,
   "metadata": {},
   "outputs": [
    {
     "name": "stdout",
     "output_type": "stream",
     "text": [
      "직각삼각형 그리기\n",
      "\n",
      "* \n",
      "* * \n",
      "* * * \n",
      "* * * * \n",
      "넓이: 8.0\n"
     ]
    }
   ],
   "source": [
    "# 입력받아 출력하기\n",
    "print('직각삼각형 그리기\\n')\n",
    "leg = int(input('변의 길이: '))\n",
    "for i in range(leg):\n",
    "    print('* ' * (i + 1))\n",
    "\n",
    "area = (leg ** 2) / 2\n",
    "print('넓이:', area)"
   ]
  }
 ],
 "metadata": {
  "kernelspec": {
   "display_name": "base",
   "language": "python",
   "name": "python3"
  },
  "language_info": {
   "codemirror_mode": {
    "name": "ipython",
    "version": 3
   },
   "file_extension": ".py",
   "mimetype": "text/x-python",
   "name": "python",
   "nbconvert_exporter": "python",
   "pygments_lexer": "ipython3",
   "version": "3.12.7"
  }
 },
 "nbformat": 4,
 "nbformat_minor": 2
}
